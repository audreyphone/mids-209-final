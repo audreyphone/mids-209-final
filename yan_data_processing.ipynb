{
  "cells": [
    {
      "cell_type": "code",
      "execution_count": 1,
      "id": "1b3c4dbf-6819-4913-a4ee-33359c4eeef7",
      "metadata": {
        "id": "1b3c4dbf-6819-4913-a4ee-33359c4eeef7"
      },
      "outputs": [],
      "source": [
        "import pandas as pd\n",
        "pd.set_option('display.max_rows', 500)\n",
        "pd.set_option('display.max_columns', 500)\n",
        "pd.set_option('display.width', 1000)"
      ]
    },
    {
      "cell_type": "code",
      "execution_count": 2,
      "id": "b6674c84-c5cd-4e4b-a019-5e520f3da16e",
      "metadata": {
        "colab": {
          "base_uri": "https://localhost:8080/",
          "height": 311
        },
        "id": "b6674c84-c5cd-4e4b-a019-5e520f3da16e",
        "outputId": "5371c4de-58aa-472b-908f-36fb0b6e51c8"
      },
      "outputs": [
        {
          "output_type": "error",
          "ename": "FileNotFoundError",
          "evalue": "ignored",
          "traceback": [
            "\u001b[0;31m---------------------------------------------------------------------------\u001b[0m",
            "\u001b[0;31mFileNotFoundError\u001b[0m                         Traceback (most recent call last)",
            "\u001b[0;32m<ipython-input-2-b48113afd519>\u001b[0m in \u001b[0;36m<module>\u001b[0;34m\u001b[0m\n\u001b[0;32m----> 1\u001b[0;31m \u001b[0mdf_2003_2012\u001b[0m \u001b[0;34m=\u001b[0m \u001b[0mpd\u001b[0m\u001b[0;34m.\u001b[0m\u001b[0mread_csv\u001b[0m\u001b[0;34m(\u001b[0m\u001b[0;34m'w209_final_data_2003_2012.csv.zip'\u001b[0m\u001b[0;34m)\u001b[0m\u001b[0;34m\u001b[0m\u001b[0;34m\u001b[0m\u001b[0m\n\u001b[0m",
            "\u001b[0;32m/usr/local/lib/python3.8/dist-packages/pandas/util/_decorators.py\u001b[0m in \u001b[0;36mwrapper\u001b[0;34m(*args, **kwargs)\u001b[0m\n\u001b[1;32m    309\u001b[0m                     \u001b[0mstacklevel\u001b[0m\u001b[0;34m=\u001b[0m\u001b[0mstacklevel\u001b[0m\u001b[0;34m,\u001b[0m\u001b[0;34m\u001b[0m\u001b[0;34m\u001b[0m\u001b[0m\n\u001b[1;32m    310\u001b[0m                 )\n\u001b[0;32m--> 311\u001b[0;31m             \u001b[0;32mreturn\u001b[0m \u001b[0mfunc\u001b[0m\u001b[0;34m(\u001b[0m\u001b[0;34m*\u001b[0m\u001b[0margs\u001b[0m\u001b[0;34m,\u001b[0m \u001b[0;34m**\u001b[0m\u001b[0mkwargs\u001b[0m\u001b[0;34m)\u001b[0m\u001b[0;34m\u001b[0m\u001b[0;34m\u001b[0m\u001b[0m\n\u001b[0m\u001b[1;32m    312\u001b[0m \u001b[0;34m\u001b[0m\u001b[0m\n\u001b[1;32m    313\u001b[0m         \u001b[0;32mreturn\u001b[0m \u001b[0mwrapper\u001b[0m\u001b[0;34m\u001b[0m\u001b[0;34m\u001b[0m\u001b[0m\n",
            "\u001b[0;32m/usr/local/lib/python3.8/dist-packages/pandas/io/parsers/readers.py\u001b[0m in \u001b[0;36mread_csv\u001b[0;34m(filepath_or_buffer, sep, delimiter, header, names, index_col, usecols, squeeze, prefix, mangle_dupe_cols, dtype, engine, converters, true_values, false_values, skipinitialspace, skiprows, skipfooter, nrows, na_values, keep_default_na, na_filter, verbose, skip_blank_lines, parse_dates, infer_datetime_format, keep_date_col, date_parser, dayfirst, cache_dates, iterator, chunksize, compression, thousands, decimal, lineterminator, quotechar, quoting, doublequote, escapechar, comment, encoding, encoding_errors, dialect, error_bad_lines, warn_bad_lines, on_bad_lines, delim_whitespace, low_memory, memory_map, float_precision, storage_options)\u001b[0m\n\u001b[1;32m    584\u001b[0m     \u001b[0mkwds\u001b[0m\u001b[0;34m.\u001b[0m\u001b[0mupdate\u001b[0m\u001b[0;34m(\u001b[0m\u001b[0mkwds_defaults\u001b[0m\u001b[0;34m)\u001b[0m\u001b[0;34m\u001b[0m\u001b[0;34m\u001b[0m\u001b[0m\n\u001b[1;32m    585\u001b[0m \u001b[0;34m\u001b[0m\u001b[0m\n\u001b[0;32m--> 586\u001b[0;31m     \u001b[0;32mreturn\u001b[0m \u001b[0m_read\u001b[0m\u001b[0;34m(\u001b[0m\u001b[0mfilepath_or_buffer\u001b[0m\u001b[0;34m,\u001b[0m \u001b[0mkwds\u001b[0m\u001b[0;34m)\u001b[0m\u001b[0;34m\u001b[0m\u001b[0;34m\u001b[0m\u001b[0m\n\u001b[0m\u001b[1;32m    587\u001b[0m \u001b[0;34m\u001b[0m\u001b[0m\n\u001b[1;32m    588\u001b[0m \u001b[0;34m\u001b[0m\u001b[0m\n",
            "\u001b[0;32m/usr/local/lib/python3.8/dist-packages/pandas/io/parsers/readers.py\u001b[0m in \u001b[0;36m_read\u001b[0;34m(filepath_or_buffer, kwds)\u001b[0m\n\u001b[1;32m    480\u001b[0m \u001b[0;34m\u001b[0m\u001b[0m\n\u001b[1;32m    481\u001b[0m     \u001b[0;31m# Create the parser.\u001b[0m\u001b[0;34m\u001b[0m\u001b[0;34m\u001b[0m\u001b[0;34m\u001b[0m\u001b[0m\n\u001b[0;32m--> 482\u001b[0;31m     \u001b[0mparser\u001b[0m \u001b[0;34m=\u001b[0m \u001b[0mTextFileReader\u001b[0m\u001b[0;34m(\u001b[0m\u001b[0mfilepath_or_buffer\u001b[0m\u001b[0;34m,\u001b[0m \u001b[0;34m**\u001b[0m\u001b[0mkwds\u001b[0m\u001b[0;34m)\u001b[0m\u001b[0;34m\u001b[0m\u001b[0;34m\u001b[0m\u001b[0m\n\u001b[0m\u001b[1;32m    483\u001b[0m \u001b[0;34m\u001b[0m\u001b[0m\n\u001b[1;32m    484\u001b[0m     \u001b[0;32mif\u001b[0m \u001b[0mchunksize\u001b[0m \u001b[0;32mor\u001b[0m \u001b[0miterator\u001b[0m\u001b[0;34m:\u001b[0m\u001b[0;34m\u001b[0m\u001b[0;34m\u001b[0m\u001b[0m\n",
            "\u001b[0;32m/usr/local/lib/python3.8/dist-packages/pandas/io/parsers/readers.py\u001b[0m in \u001b[0;36m__init__\u001b[0;34m(self, f, engine, **kwds)\u001b[0m\n\u001b[1;32m    809\u001b[0m             \u001b[0mself\u001b[0m\u001b[0;34m.\u001b[0m\u001b[0moptions\u001b[0m\u001b[0;34m[\u001b[0m\u001b[0;34m\"has_index_names\"\u001b[0m\u001b[0;34m]\u001b[0m \u001b[0;34m=\u001b[0m \u001b[0mkwds\u001b[0m\u001b[0;34m[\u001b[0m\u001b[0;34m\"has_index_names\"\u001b[0m\u001b[0;34m]\u001b[0m\u001b[0;34m\u001b[0m\u001b[0;34m\u001b[0m\u001b[0m\n\u001b[1;32m    810\u001b[0m \u001b[0;34m\u001b[0m\u001b[0m\n\u001b[0;32m--> 811\u001b[0;31m         \u001b[0mself\u001b[0m\u001b[0;34m.\u001b[0m\u001b[0m_engine\u001b[0m \u001b[0;34m=\u001b[0m \u001b[0mself\u001b[0m\u001b[0;34m.\u001b[0m\u001b[0m_make_engine\u001b[0m\u001b[0;34m(\u001b[0m\u001b[0mself\u001b[0m\u001b[0;34m.\u001b[0m\u001b[0mengine\u001b[0m\u001b[0;34m)\u001b[0m\u001b[0;34m\u001b[0m\u001b[0;34m\u001b[0m\u001b[0m\n\u001b[0m\u001b[1;32m    812\u001b[0m \u001b[0;34m\u001b[0m\u001b[0m\n\u001b[1;32m    813\u001b[0m     \u001b[0;32mdef\u001b[0m \u001b[0mclose\u001b[0m\u001b[0;34m(\u001b[0m\u001b[0mself\u001b[0m\u001b[0;34m)\u001b[0m\u001b[0;34m:\u001b[0m\u001b[0;34m\u001b[0m\u001b[0;34m\u001b[0m\u001b[0m\n",
            "\u001b[0;32m/usr/local/lib/python3.8/dist-packages/pandas/io/parsers/readers.py\u001b[0m in \u001b[0;36m_make_engine\u001b[0;34m(self, engine)\u001b[0m\n\u001b[1;32m   1038\u001b[0m             )\n\u001b[1;32m   1039\u001b[0m         \u001b[0;31m# error: Too many arguments for \"ParserBase\"\u001b[0m\u001b[0;34m\u001b[0m\u001b[0;34m\u001b[0m\u001b[0;34m\u001b[0m\u001b[0m\n\u001b[0;32m-> 1040\u001b[0;31m         \u001b[0;32mreturn\u001b[0m \u001b[0mmapping\u001b[0m\u001b[0;34m[\u001b[0m\u001b[0mengine\u001b[0m\u001b[0;34m]\u001b[0m\u001b[0;34m(\u001b[0m\u001b[0mself\u001b[0m\u001b[0;34m.\u001b[0m\u001b[0mf\u001b[0m\u001b[0;34m,\u001b[0m \u001b[0;34m**\u001b[0m\u001b[0mself\u001b[0m\u001b[0;34m.\u001b[0m\u001b[0moptions\u001b[0m\u001b[0;34m)\u001b[0m  \u001b[0;31m# type: ignore[call-arg]\u001b[0m\u001b[0;34m\u001b[0m\u001b[0;34m\u001b[0m\u001b[0m\n\u001b[0m\u001b[1;32m   1041\u001b[0m \u001b[0;34m\u001b[0m\u001b[0m\n\u001b[1;32m   1042\u001b[0m     \u001b[0;32mdef\u001b[0m \u001b[0m_failover_to_python\u001b[0m\u001b[0;34m(\u001b[0m\u001b[0mself\u001b[0m\u001b[0;34m)\u001b[0m\u001b[0;34m:\u001b[0m\u001b[0;34m\u001b[0m\u001b[0;34m\u001b[0m\u001b[0m\n",
            "\u001b[0;32m/usr/local/lib/python3.8/dist-packages/pandas/io/parsers/c_parser_wrapper.py\u001b[0m in \u001b[0;36m__init__\u001b[0;34m(self, src, **kwds)\u001b[0m\n\u001b[1;32m     49\u001b[0m \u001b[0;34m\u001b[0m\u001b[0m\n\u001b[1;32m     50\u001b[0m         \u001b[0;31m# open handles\u001b[0m\u001b[0;34m\u001b[0m\u001b[0;34m\u001b[0m\u001b[0;34m\u001b[0m\u001b[0m\n\u001b[0;32m---> 51\u001b[0;31m         \u001b[0mself\u001b[0m\u001b[0;34m.\u001b[0m\u001b[0m_open_handles\u001b[0m\u001b[0;34m(\u001b[0m\u001b[0msrc\u001b[0m\u001b[0;34m,\u001b[0m \u001b[0mkwds\u001b[0m\u001b[0;34m)\u001b[0m\u001b[0;34m\u001b[0m\u001b[0;34m\u001b[0m\u001b[0m\n\u001b[0m\u001b[1;32m     52\u001b[0m         \u001b[0;32massert\u001b[0m \u001b[0mself\u001b[0m\u001b[0;34m.\u001b[0m\u001b[0mhandles\u001b[0m \u001b[0;32mis\u001b[0m \u001b[0;32mnot\u001b[0m \u001b[0;32mNone\u001b[0m\u001b[0;34m\u001b[0m\u001b[0;34m\u001b[0m\u001b[0m\n\u001b[1;32m     53\u001b[0m \u001b[0;34m\u001b[0m\u001b[0m\n",
            "\u001b[0;32m/usr/local/lib/python3.8/dist-packages/pandas/io/parsers/base_parser.py\u001b[0m in \u001b[0;36m_open_handles\u001b[0;34m(self, src, kwds)\u001b[0m\n\u001b[1;32m    220\u001b[0m         \u001b[0mLet\u001b[0m \u001b[0mthe\u001b[0m \u001b[0mreaders\u001b[0m \u001b[0mopen\u001b[0m \u001b[0mIOHandles\u001b[0m \u001b[0mafter\u001b[0m \u001b[0mthey\u001b[0m \u001b[0mare\u001b[0m \u001b[0mdone\u001b[0m \u001b[0;32mwith\u001b[0m \u001b[0mtheir\u001b[0m \u001b[0mpotential\u001b[0m \u001b[0mraises\u001b[0m\u001b[0;34m.\u001b[0m\u001b[0;34m\u001b[0m\u001b[0;34m\u001b[0m\u001b[0m\n\u001b[1;32m    221\u001b[0m         \"\"\"\n\u001b[0;32m--> 222\u001b[0;31m         self.handles = get_handle(\n\u001b[0m\u001b[1;32m    223\u001b[0m             \u001b[0msrc\u001b[0m\u001b[0;34m,\u001b[0m\u001b[0;34m\u001b[0m\u001b[0;34m\u001b[0m\u001b[0m\n\u001b[1;32m    224\u001b[0m             \u001b[0;34m\"r\"\u001b[0m\u001b[0;34m,\u001b[0m\u001b[0;34m\u001b[0m\u001b[0;34m\u001b[0m\u001b[0m\n",
            "\u001b[0;32m/usr/local/lib/python3.8/dist-packages/pandas/io/common.py\u001b[0m in \u001b[0;36mget_handle\u001b[0;34m(path_or_buf, mode, encoding, compression, memory_map, is_text, errors, storage_options)\u001b[0m\n\u001b[1;32m    669\u001b[0m         \u001b[0;31m# ZIP Compression\u001b[0m\u001b[0;34m\u001b[0m\u001b[0;34m\u001b[0m\u001b[0;34m\u001b[0m\u001b[0m\n\u001b[1;32m    670\u001b[0m         \u001b[0;32melif\u001b[0m \u001b[0mcompression\u001b[0m \u001b[0;34m==\u001b[0m \u001b[0;34m\"zip\"\u001b[0m\u001b[0;34m:\u001b[0m\u001b[0;34m\u001b[0m\u001b[0;34m\u001b[0m\u001b[0m\n\u001b[0;32m--> 671\u001b[0;31m             \u001b[0mhandle\u001b[0m \u001b[0;34m=\u001b[0m \u001b[0m_BytesZipFile\u001b[0m\u001b[0;34m(\u001b[0m\u001b[0mhandle\u001b[0m\u001b[0;34m,\u001b[0m \u001b[0mioargs\u001b[0m\u001b[0;34m.\u001b[0m\u001b[0mmode\u001b[0m\u001b[0;34m,\u001b[0m \u001b[0;34m**\u001b[0m\u001b[0mcompression_args\u001b[0m\u001b[0;34m)\u001b[0m\u001b[0;34m\u001b[0m\u001b[0;34m\u001b[0m\u001b[0m\n\u001b[0m\u001b[1;32m    672\u001b[0m             \u001b[0;32mif\u001b[0m \u001b[0mhandle\u001b[0m\u001b[0;34m.\u001b[0m\u001b[0mmode\u001b[0m \u001b[0;34m==\u001b[0m \u001b[0;34m\"r\"\u001b[0m\u001b[0;34m:\u001b[0m\u001b[0;34m\u001b[0m\u001b[0;34m\u001b[0m\u001b[0m\n\u001b[1;32m    673\u001b[0m                 \u001b[0mhandles\u001b[0m\u001b[0;34m.\u001b[0m\u001b[0mappend\u001b[0m\u001b[0;34m(\u001b[0m\u001b[0mhandle\u001b[0m\u001b[0;34m)\u001b[0m\u001b[0;34m\u001b[0m\u001b[0;34m\u001b[0m\u001b[0m\n",
            "\u001b[0;32m/usr/local/lib/python3.8/dist-packages/pandas/io/common.py\u001b[0m in \u001b[0;36m__init__\u001b[0;34m(self, file, mode, archive_name, **kwargs)\u001b[0m\n\u001b[1;32m    785\u001b[0m         \u001b[0;31m# TextIOBase, TextIOWrapper, mmap]]]\"; expected \"Union[Union[str,\u001b[0m\u001b[0;34m\u001b[0m\u001b[0;34m\u001b[0m\u001b[0;34m\u001b[0m\u001b[0m\n\u001b[1;32m    786\u001b[0m         \u001b[0;31m# _PathLike[str]], IO[bytes]]\"\u001b[0m\u001b[0;34m\u001b[0m\u001b[0;34m\u001b[0m\u001b[0;34m\u001b[0m\u001b[0m\n\u001b[0;32m--> 787\u001b[0;31m         \u001b[0msuper\u001b[0m\u001b[0;34m(\u001b[0m\u001b[0;34m)\u001b[0m\u001b[0;34m.\u001b[0m\u001b[0m__init__\u001b[0m\u001b[0;34m(\u001b[0m\u001b[0mfile\u001b[0m\u001b[0;34m,\u001b[0m \u001b[0mmode\u001b[0m\u001b[0;34m,\u001b[0m \u001b[0;34m**\u001b[0m\u001b[0mkwargs_zip\u001b[0m\u001b[0;34m)\u001b[0m  \u001b[0;31m# type: ignore[arg-type]\u001b[0m\u001b[0;34m\u001b[0m\u001b[0;34m\u001b[0m\u001b[0m\n\u001b[0m\u001b[1;32m    788\u001b[0m \u001b[0;34m\u001b[0m\u001b[0m\n\u001b[1;32m    789\u001b[0m     \u001b[0;32mdef\u001b[0m \u001b[0mwrite\u001b[0m\u001b[0;34m(\u001b[0m\u001b[0mself\u001b[0m\u001b[0;34m,\u001b[0m \u001b[0mdata\u001b[0m\u001b[0;34m)\u001b[0m\u001b[0;34m:\u001b[0m\u001b[0;34m\u001b[0m\u001b[0;34m\u001b[0m\u001b[0m\n",
            "\u001b[0;32m/usr/lib/python3.8/zipfile.py\u001b[0m in \u001b[0;36m__init__\u001b[0;34m(self, file, mode, compression, allowZip64, compresslevel, strict_timestamps)\u001b[0m\n\u001b[1;32m   1249\u001b[0m             \u001b[0;32mwhile\u001b[0m \u001b[0;32mTrue\u001b[0m\u001b[0;34m:\u001b[0m\u001b[0;34m\u001b[0m\u001b[0;34m\u001b[0m\u001b[0m\n\u001b[1;32m   1250\u001b[0m                 \u001b[0;32mtry\u001b[0m\u001b[0;34m:\u001b[0m\u001b[0;34m\u001b[0m\u001b[0;34m\u001b[0m\u001b[0m\n\u001b[0;32m-> 1251\u001b[0;31m                     \u001b[0mself\u001b[0m\u001b[0;34m.\u001b[0m\u001b[0mfp\u001b[0m \u001b[0;34m=\u001b[0m \u001b[0mio\u001b[0m\u001b[0;34m.\u001b[0m\u001b[0mopen\u001b[0m\u001b[0;34m(\u001b[0m\u001b[0mfile\u001b[0m\u001b[0;34m,\u001b[0m \u001b[0mfilemode\u001b[0m\u001b[0;34m)\u001b[0m\u001b[0;34m\u001b[0m\u001b[0;34m\u001b[0m\u001b[0m\n\u001b[0m\u001b[1;32m   1252\u001b[0m                 \u001b[0;32mexcept\u001b[0m \u001b[0mOSError\u001b[0m\u001b[0;34m:\u001b[0m\u001b[0;34m\u001b[0m\u001b[0;34m\u001b[0m\u001b[0m\n\u001b[1;32m   1253\u001b[0m                     \u001b[0;32mif\u001b[0m \u001b[0mfilemode\u001b[0m \u001b[0;32min\u001b[0m \u001b[0mmodeDict\u001b[0m\u001b[0;34m:\u001b[0m\u001b[0;34m\u001b[0m\u001b[0;34m\u001b[0m\u001b[0m\n",
            "\u001b[0;31mFileNotFoundError\u001b[0m: [Errno 2] No such file or directory: 'w209_final_data_2003_2012.csv.zip'"
          ]
        }
      ],
      "source": [
        "df_2003_2012 = pd.read_csv('w209_final_data_2003_2012.csv.zip')"
      ]
    },
    {
      "cell_type": "code",
      "execution_count": null,
      "id": "e5012d8a-7949-433e-99e0-0ea6c472fbb5",
      "metadata": {
        "id": "e5012d8a-7949-433e-99e0-0ea6c472fbb5"
      },
      "outputs": [],
      "source": [
        "df_2003_2012.shape"
      ]
    },
    {
      "cell_type": "code",
      "execution_count": null,
      "id": "5e9b2a79-5762-4674-85d3-44838a2224fb",
      "metadata": {
        "id": "5e9b2a79-5762-4674-85d3-44838a2224fb"
      },
      "outputs": [],
      "source": [
        "df_2003_2012.head()"
      ]
    },
    {
      "cell_type": "code",
      "execution_count": null,
      "id": "711f25e3-c2fb-44b5-8153-111ac0b00682",
      "metadata": {
        "id": "711f25e3-c2fb-44b5-8153-111ac0b00682"
      },
      "outputs": [],
      "source": [
        "df_2003_2012 = df_2003_2012.iloc[:, 1:]\n",
        "df_2003_2012.shape"
      ]
    },
    {
      "cell_type": "code",
      "execution_count": null,
      "id": "54d2023d-a3f3-42fd-8f9f-093a97d8d685",
      "metadata": {
        "id": "54d2023d-a3f3-42fd-8f9f-093a97d8d685"
      },
      "outputs": [],
      "source": [
        "df_2003_2012.head()"
      ]
    },
    {
      "cell_type": "code",
      "execution_count": null,
      "id": "f0542946-6778-4825-9631-097bda2bb1bf",
      "metadata": {
        "id": "f0542946-6778-4825-9631-097bda2bb1bf"
      },
      "outputs": [],
      "source": [
        "df_2013_2022 = pd.read_csv('w209_final_data_2013_2022.csv.zip')"
      ]
    },
    {
      "cell_type": "code",
      "execution_count": null,
      "id": "d5d5f1e6-9327-4e97-b7c4-4a7c7369fc71",
      "metadata": {
        "id": "d5d5f1e6-9327-4e97-b7c4-4a7c7369fc71"
      },
      "outputs": [],
      "source": [
        "df_2013_2022.shape"
      ]
    },
    {
      "cell_type": "code",
      "execution_count": null,
      "id": "627b4c0b-cd8a-40da-88f3-79858470c473",
      "metadata": {
        "id": "627b4c0b-cd8a-40da-88f3-79858470c473"
      },
      "outputs": [],
      "source": [
        "df_2013_2022.head()"
      ]
    },
    {
      "cell_type": "code",
      "execution_count": null,
      "id": "10caa19e-a728-40a2-82df-b56b4d182984",
      "metadata": {
        "id": "10caa19e-a728-40a2-82df-b56b4d182984"
      },
      "outputs": [],
      "source": [
        "df_2013_2022 = df_2013_2022.iloc[:, 1:]\n",
        "df_2013_2022.shape"
      ]
    },
    {
      "cell_type": "code",
      "execution_count": null,
      "id": "dc3e7ea5-229c-470b-8f87-8a70490b872a",
      "metadata": {
        "id": "dc3e7ea5-229c-470b-8f87-8a70490b872a"
      },
      "outputs": [],
      "source": [
        "df_2013_2022.head()"
      ]
    },
    {
      "cell_type": "markdown",
      "id": "1129b7f2-a93f-4cbb-96ea-030b974c568c",
      "metadata": {
        "id": "1129b7f2-a93f-4cbb-96ea-030b974c568c"
      },
      "source": [
        "**Variables to recode:** Occupation, CIT, NATIVITY, HISPAN, EMPSTATE, LABFORCE, QUITSICK, PAIDGH, DIFFANY, INCWAGE, WHYMOVE, DISABWRK"
      ]
    },
    {
      "cell_type": "code",
      "execution_count": null,
      "id": "f168fc41-b313-4d44-8a54-6e702f74ba5a",
      "metadata": {
        "id": "f168fc41-b313-4d44-8a54-6e702f74ba5a"
      },
      "outputs": [],
      "source": [
        "variables = ['citizenship', \n",
        "             'employment_stat', \n",
        "             'hispanic', \n",
        "             'insurance', \n",
        "             'labor_force_stat', \n",
        "             'nativity', \n",
        "             'quit_sick',\n",
        "             'disability_stat',\n",
        "             'income_wage',\n",
        "             'reason_move',\n",
        "             'disability_stat'\n",
        "            ]"
      ]
    },
    {
      "cell_type": "code",
      "execution_count": null,
      "id": "94cd777e-50b0-44df-a124-64397d48baab",
      "metadata": {
        "id": "94cd777e-50b0-44df-a124-64397d48baab"
      },
      "outputs": [],
      "source": [
        "citizenship_values_dict = {1: 'Born in U.S.',\n",
        "                           2: 'Born in U.S. outlying',\n",
        "                           3: 'Born abroad of American parents',\n",
        "                           4: 'Naturalized citizen',\n",
        "                           5: 'Not a citizen',\n",
        "                           9: 'NIU'\n",
        "                          }"
      ]
    },
    {
      "cell_type": "code",
      "execution_count": null,
      "id": "09f75227-1ff4-4b57-a097-d05d02993588",
      "metadata": {
        "id": "09f75227-1ff4-4b57-a097-d05d02993588"
      },
      "outputs": [],
      "source": [
        "employment_stat_values_dict = {0: 'NIU',\n",
        "                               1: 'Armed Forces',\n",
        "                               10: 'At work',\n",
        "                               12: 'Has job, not at work last week',\n",
        "                               20: 'Unemployed',\n",
        "                               21: 'Unemployed, experienced worker',\n",
        "                               22: 'Unemployed, new worker',\n",
        "                               30: 'Not in labor force',\n",
        "                               31: 'NILF, housework',\n",
        "                               32: 'NILF, unable to work',\n",
        "                               33: 'NILF, school',\n",
        "                               34: 'NILF, other',\n",
        "                               35: 'NILF, unpaid, lt 15 hours',\n",
        "                               36: 'NILF, retired'\n",
        "                              }"
      ]
    },
    {
      "cell_type": "code",
      "execution_count": null,
      "id": "3736b538-734f-45bb-a24a-0437ee038317",
      "metadata": {
        "id": "3736b538-734f-45bb-a24a-0437ee038317"
      },
      "outputs": [],
      "source": [
        "hispanic_values_dict = {0: 'Not Hispanic',\n",
        "                        100: 'Mexican',\n",
        "                        102: 'Mexican American', \n",
        "                        103: 'Mexicano/Mexicana',\n",
        "                        104: 'Chicano/Chicana',\n",
        "                        108: 'Mexican (Mexicano)',\n",
        "                        109: 'Mexicano/Chicano',\n",
        "                        200: 'Puerto Rican',\n",
        "                        300: 'Cuban', \n",
        "                        400: 'Domincan',\n",
        "                        500: 'Salvadoran',\n",
        "                        600: 'Other Hispanic',\n",
        "                        610: 'Central/South American',\n",
        "                        611: 'Central American (excluding Salvadorean)',\n",
        "                        612: 'South American'\n",
        "                       }"
      ]
    },
    {
      "cell_type": "code",
      "execution_count": null,
      "id": "b0cb604c-c95b-416b-9956-f32ff5b6886b",
      "metadata": {
        "id": "b0cb604c-c95b-416b-9956-f32ff5b6886b"
      },
      "outputs": [],
      "source": [
        "insurance_values_dict = {0: 'NIU',\n",
        "                         10: 'No',\n",
        "                         20: 'Yes',\n",
        "                         21: 'Yes, paid for part',\n",
        "                         22: 'Yes, paid for all'\n",
        "                        }"
      ]
    },
    {
      "cell_type": "code",
      "execution_count": null,
      "id": "ddf1960c-377a-4f88-9034-891431fdd524",
      "metadata": {
        "id": "ddf1960c-377a-4f88-9034-891431fdd524"
      },
      "outputs": [],
      "source": [
        "labor_force_stat_values_dict = {0: 'NIU',\n",
        "                                1: 'No, not in the labor force',\n",
        "                                2: 'Yes, in the labor force'\n",
        "                               }"
      ]
    },
    {
      "cell_type": "code",
      "execution_count": null,
      "id": "383eb2d9-4c09-45b0-91b7-6e1af8e7c18f",
      "metadata": {
        "id": "383eb2d9-4c09-45b0-91b7-6e1af8e7c18f"
      },
      "outputs": [],
      "source": [
        "nativity_values_dict = {0: 'Unknown',\n",
        "                        1: 'Both parents native-born',\n",
        "                        2: 'Father foreign, mother native',\n",
        "                        3: 'Mother foreign, father native',\n",
        "                        4: 'Both parents foreign',\n",
        "                        5: 'Foreign born'\n",
        "                       }"
      ]
    },
    {
      "cell_type": "code",
      "execution_count": null,
      "id": "90e8197d-783f-4ae3-9acb-2b36d9d90adc",
      "metadata": {
        "id": "90e8197d-783f-4ae3-9acb-2b36d9d90adc"
      },
      "outputs": [],
      "source": [
        "quit_sick_values_dict = {0: 'NIU',\n",
        "                         1: 'No, did not quit job or retire',\n",
        "                         2: 'Yes, quit job or retired'\n",
        "                        }"
      ]
    },
    {
      "cell_type": "code",
      "source": [
        "health_stat_values_dict = {0: 'NIU',\n",
        "                         1: 'No difficulty',\n",
        "                         2: 'Has difficulty'\n",
        "                        }"
      ],
      "metadata": {
        "id": "mythAmx-k9RQ"
      },
      "id": "mythAmx-k9RQ",
      "execution_count": null,
      "outputs": []
    },
    {
      "cell_type": "code",
      "source": [
        "income_wage_values_dict = {99999999: 'NIU'}                           \n",
        "             "
      ],
      "metadata": {
        "id": "B-eYHYbRnBKy"
      },
      "id": "B-eYHYbRnBKy",
      "execution_count": null,
      "outputs": []
    },
    {
      "cell_type": "code",
      "source": [
        "reason_move_values_dict = {0: 'NIU',\n",
        "                           1: 'Change in marital status',\n",
        "                           2: 'To establish own household',\n",
        "                           3: 'Other family reason',\n",
        "                           4: 'New job or job transfer',\n",
        "                           5: 'To look for work or lost job',\n",
        "                           6: 'For easier commute',\n",
        "                           7: 'Retired',\n",
        "                           8: 'Other job-related reason',\n",
        "                           9: 'Wanted to own home, not rent',\n",
        "                           10: 'Wanted new or better housing',\n",
        "                           11: 'Wanted better neighborhood',\n",
        "                           12: 'For cheaper housing',\n",
        "                           13: 'Other housing reason',\n",
        "                           14: 'Attend/leave college',\n",
        "                           15: 'Change of climate',\n",
        "                           16: 'Health reasons',\n",
        "                           17: 'Other reasons',\n",
        "                           18: 'Natural disaster',\n",
        "                           19: 'Foreclosure or eviction',\n",
        "                           20: 'Relationship with unmarried partner'\n",
        "                           }\n"
      ],
      "metadata": {
        "id": "ZzIq4AyhnBiA"
      },
      "id": "ZzIq4AyhnBiA",
      "execution_count": null,
      "outputs": []
    },
    {
      "cell_type": "code",
      "source": [
        "disability_stat_values_dict = {0: 'NIU',\n",
        "                               1: 'No disability that affects work',\n",
        "                               2: 'Disability limits or prevents work'}"
      ],
      "metadata": {
        "id": "kjH_inQ2qIkz"
      },
      "id": "kjH_inQ2qIkz",
      "execution_count": null,
      "outputs": []
    },
    {
      "cell_type": "code",
      "execution_count": null,
      "id": "bd139110-935e-4186-ad0d-158ea5bfa54b",
      "metadata": {
        "id": "bd139110-935e-4186-ad0d-158ea5bfa54b"
      },
      "outputs": [],
      "source": [
        "dicts = [citizenship_values_dict, \n",
        "         employment_stat_values_dict,\n",
        "         hispanic_values_dict,\n",
        "         insurance_values_dict,\n",
        "         labor_force_stat_values_dict,\n",
        "         nativity_values_dict,\n",
        "         quit_sick_values_dict,\n",
        "         health_stat_values_dict,\n",
        "         income_wage_values_dict,\n",
        "         reason_move_values_dict\n",
        "         disability_stat_values_dict\n",
        "        ]"
      ]
    },
    {
      "cell_type": "code",
      "execution_count": null,
      "id": "e3b974bd-010c-4520-8778-4c99f90ba974",
      "metadata": {
        "id": "e3b974bd-010c-4520-8778-4c99f90ba974"
      },
      "outputs": [],
      "source": [
        "variable_values_dict = dict(zip(variables, dicts))"
      ]
    },
    {
      "cell_type": "code",
      "execution_count": null,
      "id": "1623969a-8be2-4504-8ced-e2555cc6a7b0",
      "metadata": {
        "id": "1623969a-8be2-4504-8ced-e2555cc6a7b0"
      },
      "outputs": [],
      "source": [
        "for df in [df_2003_2012, df_2013_2022]:\n",
        "    for k in variable_values_dict.keys():\n",
        "        new_col_name = k + '_text'\n",
        "        df[new_col_name] = df[k].map(variable_values_dict[k])"
      ]
    },
    {
      "cell_type": "code",
      "execution_count": null,
      "id": "dbc1f0d9-9a59-4836-a293-3b3677ee0a04",
      "metadata": {
        "id": "dbc1f0d9-9a59-4836-a293-3b3677ee0a04"
      },
      "outputs": [],
      "source": [
        "df_2003_2012.head()"
      ]
    },
    {
      "cell_type": "code",
      "execution_count": null,
      "id": "15a3aab6-cf5c-48c3-91bd-46648bdee513",
      "metadata": {
        "id": "15a3aab6-cf5c-48c3-91bd-46648bdee513"
      },
      "outputs": [],
      "source": [
        "df_2013_2022.head()"
      ]
    },
    {
      "cell_type": "code",
      "execution_count": null,
      "id": "05af951b-65c5-4e8e-a42f-94383e962585",
      "metadata": {
        "id": "05af951b-65c5-4e8e-a42f-94383e962585"
      },
      "outputs": [],
      "source": []
    }
  ],
  "metadata": {
    "kernelspec": {
      "display_name": "Python 3 (ipykernel)",
      "language": "python",
      "name": "python3"
    },
    "language_info": {
      "codemirror_mode": {
        "name": "ipython",
        "version": 3
      },
      "file_extension": ".py",
      "mimetype": "text/x-python",
      "name": "python",
      "nbconvert_exporter": "python",
      "pygments_lexer": "ipython3",
      "version": "3.9.7"
    },
    "colab": {
      "provenance": []
    }
  },
  "nbformat": 4,
  "nbformat_minor": 5
}